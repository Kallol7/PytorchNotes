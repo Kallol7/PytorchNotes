{
  "nbformat": 4,
  "nbformat_minor": 0,
  "metadata": {
    "colab": {
      "provenance": [],
      "authorship_tag": "ABX9TyPQTX/6Qd5vd7CVM4pIyvud",
      "include_colab_link": true
    },
    "kernelspec": {
      "name": "python3",
      "display_name": "Python 3"
    },
    "language_info": {
      "name": "python"
    }
  },
  "cells": [
    {
      "cell_type": "markdown",
      "metadata": {
        "id": "view-in-github",
        "colab_type": "text"
      },
      "source": [
        "<a href=\"https://colab.research.google.com/github/Kallol7/PytorchNotes/blob/main/Pretrained/Pretrained.ipynb\" target=\"_parent\"><img src=\"https://colab.research.google.com/assets/colab-badge.svg\" alt=\"Open In Colab\"/></a>"
      ]
    },
    {
      "cell_type": "code",
      "execution_count": 1,
      "metadata": {
        "id": "hVArkzLLuUHt"
      },
      "outputs": [],
      "source": [
        "import torch\n",
        "from transformers import AutoModel, AutoFeatureExtractor, AutoModel, AutoConfig\n",
        "import os"
      ]
    },
    {
      "cell_type": "code",
      "source": [
        "# https://huggingface.co/zongzhuofan/co-detr-vit-large-coco/resolve/main/pytorch_model.pth\n",
        "\n",
        "from huggingface_hub import hf_hub_download\n",
        "\n",
        "REPO_ID = \"zongzhuofan/co-detr-vit-large-coco\"\n",
        "FILENAME = \"pytorch_model.pth\"\n",
        "\n",
        "model_path = hf_hub_download(repo_id=REPO_ID, filename=FILENAME, local_dir =\"model\")"
      ],
      "metadata": {
        "id": "KV4MgkQxvLL-"
      },
      "execution_count": 73,
      "outputs": []
    },
    {
      "cell_type": "code",
      "source": [
        "# model_path = \"/content/model/pytorch_model.pth\"\n",
        "checkpoint = torch.load(\n",
        "    model_path, weights_only=False\n",
        ")"
      ],
      "metadata": {
        "id": "oT8pHtRo9sAj"
      },
      "execution_count": 86,
      "outputs": []
    },
    {
      "cell_type": "code",
      "source": [
        "model_path = \"/content/model\"\n",
        "os.rename(f\"{model_path}/pytorch_model.pth\", f\"{model_path}/pytorch_model.bin\")"
      ],
      "metadata": {
        "id": "EaPfYamKLKVX"
      },
      "execution_count": 98,
      "outputs": []
    },
    {
      "cell_type": "code",
      "source": [
        "model_config = AutoConfig.from_pretrained(REPO_ID)"
      ],
      "metadata": {
        "id": "joFlI9mFu3PX"
      },
      "execution_count": 99,
      "outputs": []
    },
    {
      "cell_type": "code",
      "source": [
        "model_config"
      ],
      "metadata": {
        "colab": {
          "base_uri": "https://localhost:8080/"
        },
        "id": "JhkymnWR0tkI",
        "outputId": "41500d81-6799-41d2-f7d6-b84a4804bb55"
      },
      "execution_count": 100,
      "outputs": [
        {
          "output_type": "execute_result",
          "data": {
            "text/plain": [
              "DetrConfig {\n",
              "  \"_name_or_path\": \"zongzhuofan/co-detr-vit-large-coco\",\n",
              "  \"activation_dropout\": 0.0,\n",
              "  \"activation_function\": \"relu\",\n",
              "  \"attention_dropout\": 0.0,\n",
              "  \"auxiliary_loss\": false,\n",
              "  \"backbone\": \"resnet50\",\n",
              "  \"backbone_config\": null,\n",
              "  \"backbone_kwargs\": {\n",
              "    \"in_chans\": 3,\n",
              "    \"out_indices\": [\n",
              "      1,\n",
              "      2,\n",
              "      3,\n",
              "      4\n",
              "    ]\n",
              "  },\n",
              "  \"bbox_cost\": 5,\n",
              "  \"bbox_loss_coefficient\": 5,\n",
              "  \"class_cost\": 1,\n",
              "  \"d_model\": 256,\n",
              "  \"decoder_attention_heads\": 8,\n",
              "  \"decoder_ffn_dim\": 2048,\n",
              "  \"decoder_layerdrop\": 0.0,\n",
              "  \"decoder_layers\": 6,\n",
              "  \"dice_loss_coefficient\": 1,\n",
              "  \"dilation\": false,\n",
              "  \"dropout\": 0.1,\n",
              "  \"encoder_attention_heads\": 8,\n",
              "  \"encoder_ffn_dim\": 2048,\n",
              "  \"encoder_layerdrop\": 0.0,\n",
              "  \"encoder_layers\": 6,\n",
              "  \"eos_coefficient\": 0.1,\n",
              "  \"giou_cost\": 2,\n",
              "  \"giou_loss_coefficient\": 2,\n",
              "  \"init_std\": 0.02,\n",
              "  \"init_xavier_std\": 1.0,\n",
              "  \"is_encoder_decoder\": true,\n",
              "  \"mask_loss_coefficient\": 1,\n",
              "  \"model_type\": \"detr\",\n",
              "  \"num_channels\": 3,\n",
              "  \"num_hidden_layers\": 6,\n",
              "  \"num_queries\": 100,\n",
              "  \"position_embedding_type\": \"sine\",\n",
              "  \"transformers_version\": \"4.46.3\",\n",
              "  \"use_pretrained_backbone\": true,\n",
              "  \"use_timm_backbone\": true\n",
              "}"
            ]
          },
          "metadata": {},
          "execution_count": 100
        }
      ]
    },
    {
      "cell_type": "code",
      "source": [
        "model = AutoModel.from_pretrained(model_path, config = model_config)"
      ],
      "metadata": {
        "colab": {
          "base_uri": "https://localhost:8080/"
        },
        "id": "orDbVU3N-14w",
        "outputId": "958723a5-9c7c-4b68-8e23-fbff151c5f39"
      },
      "execution_count": 101,
      "outputs": [
        {
          "output_type": "stream",
          "name": "stderr",
          "text": [
            "Some weights of DetrModel were not initialized from the model checkpoint at /content/model and are newly initialized: ['backbone.conv_encoder.model.bn1.bias', 'backbone.conv_encoder.model.bn1.running_mean', 'backbone.conv_encoder.model.bn1.running_var', 'backbone.conv_encoder.model.bn1.weight', 'backbone.conv_encoder.model.conv1.weight', 'backbone.conv_encoder.model.layer1.0.bn1.bias', 'backbone.conv_encoder.model.layer1.0.bn1.running_mean', 'backbone.conv_encoder.model.layer1.0.bn1.running_var', 'backbone.conv_encoder.model.layer1.0.bn1.weight', 'backbone.conv_encoder.model.layer1.0.bn2.bias', 'backbone.conv_encoder.model.layer1.0.bn2.running_mean', 'backbone.conv_encoder.model.layer1.0.bn2.running_var', 'backbone.conv_encoder.model.layer1.0.bn2.weight', 'backbone.conv_encoder.model.layer1.0.bn3.bias', 'backbone.conv_encoder.model.layer1.0.bn3.running_mean', 'backbone.conv_encoder.model.layer1.0.bn3.running_var', 'backbone.conv_encoder.model.layer1.0.bn3.weight', 'backbone.conv_encoder.model.layer1.0.conv1.weight', 'backbone.conv_encoder.model.layer1.0.conv2.weight', 'backbone.conv_encoder.model.layer1.0.conv3.weight', 'backbone.conv_encoder.model.layer1.0.downsample.0.weight', 'backbone.conv_encoder.model.layer1.0.downsample.1.bias', 'backbone.conv_encoder.model.layer1.0.downsample.1.running_mean', 'backbone.conv_encoder.model.layer1.0.downsample.1.running_var', 'backbone.conv_encoder.model.layer1.0.downsample.1.weight', 'backbone.conv_encoder.model.layer1.1.bn1.bias', 'backbone.conv_encoder.model.layer1.1.bn1.running_mean', 'backbone.conv_encoder.model.layer1.1.bn1.running_var', 'backbone.conv_encoder.model.layer1.1.bn1.weight', 'backbone.conv_encoder.model.layer1.1.bn2.bias', 'backbone.conv_encoder.model.layer1.1.bn2.running_mean', 'backbone.conv_encoder.model.layer1.1.bn2.running_var', 'backbone.conv_encoder.model.layer1.1.bn2.weight', 'backbone.conv_encoder.model.layer1.1.bn3.bias', 'backbone.conv_encoder.model.layer1.1.bn3.running_mean', 'backbone.conv_encoder.model.layer1.1.bn3.running_var', 'backbone.conv_encoder.model.layer1.1.bn3.weight', 'backbone.conv_encoder.model.layer1.1.conv1.weight', 'backbone.conv_encoder.model.layer1.1.conv2.weight', 'backbone.conv_encoder.model.layer1.1.conv3.weight', 'backbone.conv_encoder.model.layer1.2.bn1.bias', 'backbone.conv_encoder.model.layer1.2.bn1.running_mean', 'backbone.conv_encoder.model.layer1.2.bn1.running_var', 'backbone.conv_encoder.model.layer1.2.bn1.weight', 'backbone.conv_encoder.model.layer1.2.bn2.bias', 'backbone.conv_encoder.model.layer1.2.bn2.running_mean', 'backbone.conv_encoder.model.layer1.2.bn2.running_var', 'backbone.conv_encoder.model.layer1.2.bn2.weight', 'backbone.conv_encoder.model.layer1.2.bn3.bias', 'backbone.conv_encoder.model.layer1.2.bn3.running_mean', 'backbone.conv_encoder.model.layer1.2.bn3.running_var', 'backbone.conv_encoder.model.layer1.2.bn3.weight', 'backbone.conv_encoder.model.layer1.2.conv1.weight', 'backbone.conv_encoder.model.layer1.2.conv2.weight', 'backbone.conv_encoder.model.layer1.2.conv3.weight', 'backbone.conv_encoder.model.layer2.0.bn1.bias', 'backbone.conv_encoder.model.layer2.0.bn1.running_mean', 'backbone.conv_encoder.model.layer2.0.bn1.running_var', 'backbone.conv_encoder.model.layer2.0.bn1.weight', 'backbone.conv_encoder.model.layer2.0.bn2.bias', 'backbone.conv_encoder.model.layer2.0.bn2.running_mean', 'backbone.conv_encoder.model.layer2.0.bn2.running_var', 'backbone.conv_encoder.model.layer2.0.bn2.weight', 'backbone.conv_encoder.model.layer2.0.bn3.bias', 'backbone.conv_encoder.model.layer2.0.bn3.running_mean', 'backbone.conv_encoder.model.layer2.0.bn3.running_var', 'backbone.conv_encoder.model.layer2.0.bn3.weight', 'backbone.conv_encoder.model.layer2.0.conv1.weight', 'backbone.conv_encoder.model.layer2.0.conv2.weight', 'backbone.conv_encoder.model.layer2.0.conv3.weight', 'backbone.conv_encoder.model.layer2.0.downsample.0.weight', 'backbone.conv_encoder.model.layer2.0.downsample.1.bias', 'backbone.conv_encoder.model.layer2.0.downsample.1.running_mean', 'backbone.conv_encoder.model.layer2.0.downsample.1.running_var', 'backbone.conv_encoder.model.layer2.0.downsample.1.weight', 'backbone.conv_encoder.model.layer2.1.bn1.bias', 'backbone.conv_encoder.model.layer2.1.bn1.running_mean', 'backbone.conv_encoder.model.layer2.1.bn1.running_var', 'backbone.conv_encoder.model.layer2.1.bn1.weight', 'backbone.conv_encoder.model.layer2.1.bn2.bias', 'backbone.conv_encoder.model.layer2.1.bn2.running_mean', 'backbone.conv_encoder.model.layer2.1.bn2.running_var', 'backbone.conv_encoder.model.layer2.1.bn2.weight', 'backbone.conv_encoder.model.layer2.1.bn3.bias', 'backbone.conv_encoder.model.layer2.1.bn3.running_mean', 'backbone.conv_encoder.model.layer2.1.bn3.running_var', 'backbone.conv_encoder.model.layer2.1.bn3.weight', 'backbone.conv_encoder.model.layer2.1.conv1.weight', 'backbone.conv_encoder.model.layer2.1.conv2.weight', 'backbone.conv_encoder.model.layer2.1.conv3.weight', 'backbone.conv_encoder.model.layer2.2.bn1.bias', 'backbone.conv_encoder.model.layer2.2.bn1.running_mean', 'backbone.conv_encoder.model.layer2.2.bn1.running_var', 'backbone.conv_encoder.model.layer2.2.bn1.weight', 'backbone.conv_encoder.model.layer2.2.bn2.bias', 'backbone.conv_encoder.model.layer2.2.bn2.running_mean', 'backbone.conv_encoder.model.layer2.2.bn2.running_var', 'backbone.conv_encoder.model.layer2.2.bn2.weight', 'backbone.conv_encoder.model.layer2.2.bn3.bias', 'backbone.conv_encoder.model.layer2.2.bn3.running_mean', 'backbone.conv_encoder.model.layer2.2.bn3.running_var', 'backbone.conv_encoder.model.layer2.2.bn3.weight', 'backbone.conv_encoder.model.layer2.2.conv1.weight', 'backbone.conv_encoder.model.layer2.2.conv2.weight', 'backbone.conv_encoder.model.layer2.2.conv3.weight', 'backbone.conv_encoder.model.layer2.3.bn1.bias', 'backbone.conv_encoder.model.layer2.3.bn1.running_mean', 'backbone.conv_encoder.model.layer2.3.bn1.running_var', 'backbone.conv_encoder.model.layer2.3.bn1.weight', 'backbone.conv_encoder.model.layer2.3.bn2.bias', 'backbone.conv_encoder.model.layer2.3.bn2.running_mean', 'backbone.conv_encoder.model.layer2.3.bn2.running_var', 'backbone.conv_encoder.model.layer2.3.bn2.weight', 'backbone.conv_encoder.model.layer2.3.bn3.bias', 'backbone.conv_encoder.model.layer2.3.bn3.running_mean', 'backbone.conv_encoder.model.layer2.3.bn3.running_var', 'backbone.conv_encoder.model.layer2.3.bn3.weight', 'backbone.conv_encoder.model.layer2.3.conv1.weight', 'backbone.conv_encoder.model.layer2.3.conv2.weight', 'backbone.conv_encoder.model.layer2.3.conv3.weight', 'backbone.conv_encoder.model.layer3.0.bn1.bias', 'backbone.conv_encoder.model.layer3.0.bn1.running_mean', 'backbone.conv_encoder.model.layer3.0.bn1.running_var', 'backbone.conv_encoder.model.layer3.0.bn1.weight', 'backbone.conv_encoder.model.layer3.0.bn2.bias', 'backbone.conv_encoder.model.layer3.0.bn2.running_mean', 'backbone.conv_encoder.model.layer3.0.bn2.running_var', 'backbone.conv_encoder.model.layer3.0.bn2.weight', 'backbone.conv_encoder.model.layer3.0.bn3.bias', 'backbone.conv_encoder.model.layer3.0.bn3.running_mean', 'backbone.conv_encoder.model.layer3.0.bn3.running_var', 'backbone.conv_encoder.model.layer3.0.bn3.weight', 'backbone.conv_encoder.model.layer3.0.conv1.weight', 'backbone.conv_encoder.model.layer3.0.conv2.weight', 'backbone.conv_encoder.model.layer3.0.conv3.weight', 'backbone.conv_encoder.model.layer3.0.downsample.0.weight', 'backbone.conv_encoder.model.layer3.0.downsample.1.bias', 'backbone.conv_encoder.model.layer3.0.downsample.1.running_mean', 'backbone.conv_encoder.model.layer3.0.downsample.1.running_var', 'backbone.conv_encoder.model.layer3.0.downsample.1.weight', 'backbone.conv_encoder.model.layer3.1.bn1.bias', 'backbone.conv_encoder.model.layer3.1.bn1.running_mean', 'backbone.conv_encoder.model.layer3.1.bn1.running_var', 'backbone.conv_encoder.model.layer3.1.bn1.weight', 'backbone.conv_encoder.model.layer3.1.bn2.bias', 'backbone.conv_encoder.model.layer3.1.bn2.running_mean', 'backbone.conv_encoder.model.layer3.1.bn2.running_var', 'backbone.conv_encoder.model.layer3.1.bn2.weight', 'backbone.conv_encoder.model.layer3.1.bn3.bias', 'backbone.conv_encoder.model.layer3.1.bn3.running_mean', 'backbone.conv_encoder.model.layer3.1.bn3.running_var', 'backbone.conv_encoder.model.layer3.1.bn3.weight', 'backbone.conv_encoder.model.layer3.1.conv1.weight', 'backbone.conv_encoder.model.layer3.1.conv2.weight', 'backbone.conv_encoder.model.layer3.1.conv3.weight', 'backbone.conv_encoder.model.layer3.2.bn1.bias', 'backbone.conv_encoder.model.layer3.2.bn1.running_mean', 'backbone.conv_encoder.model.layer3.2.bn1.running_var', 'backbone.conv_encoder.model.layer3.2.bn1.weight', 'backbone.conv_encoder.model.layer3.2.bn2.bias', 'backbone.conv_encoder.model.layer3.2.bn2.running_mean', 'backbone.conv_encoder.model.layer3.2.bn2.running_var', 'backbone.conv_encoder.model.layer3.2.bn2.weight', 'backbone.conv_encoder.model.layer3.2.bn3.bias', 'backbone.conv_encoder.model.layer3.2.bn3.running_mean', 'backbone.conv_encoder.model.layer3.2.bn3.running_var', 'backbone.conv_encoder.model.layer3.2.bn3.weight', 'backbone.conv_encoder.model.layer3.2.conv1.weight', 'backbone.conv_encoder.model.layer3.2.conv2.weight', 'backbone.conv_encoder.model.layer3.2.conv3.weight', 'backbone.conv_encoder.model.layer3.3.bn1.bias', 'backbone.conv_encoder.model.layer3.3.bn1.running_mean', 'backbone.conv_encoder.model.layer3.3.bn1.running_var', 'backbone.conv_encoder.model.layer3.3.bn1.weight', 'backbone.conv_encoder.model.layer3.3.bn2.bias', 'backbone.conv_encoder.model.layer3.3.bn2.running_mean', 'backbone.conv_encoder.model.layer3.3.bn2.running_var', 'backbone.conv_encoder.model.layer3.3.bn2.weight', 'backbone.conv_encoder.model.layer3.3.bn3.bias', 'backbone.conv_encoder.model.layer3.3.bn3.running_mean', 'backbone.conv_encoder.model.layer3.3.bn3.running_var', 'backbone.conv_encoder.model.layer3.3.bn3.weight', 'backbone.conv_encoder.model.layer3.3.conv1.weight', 'backbone.conv_encoder.model.layer3.3.conv2.weight', 'backbone.conv_encoder.model.layer3.3.conv3.weight', 'backbone.conv_encoder.model.layer3.4.bn1.bias', 'backbone.conv_encoder.model.layer3.4.bn1.running_mean', 'backbone.conv_encoder.model.layer3.4.bn1.running_var', 'backbone.conv_encoder.model.layer3.4.bn1.weight', 'backbone.conv_encoder.model.layer3.4.bn2.bias', 'backbone.conv_encoder.model.layer3.4.bn2.running_mean', 'backbone.conv_encoder.model.layer3.4.bn2.running_var', 'backbone.conv_encoder.model.layer3.4.bn2.weight', 'backbone.conv_encoder.model.layer3.4.bn3.bias', 'backbone.conv_encoder.model.layer3.4.bn3.running_mean', 'backbone.conv_encoder.model.layer3.4.bn3.running_var', 'backbone.conv_encoder.model.layer3.4.bn3.weight', 'backbone.conv_encoder.model.layer3.4.conv1.weight', 'backbone.conv_encoder.model.layer3.4.conv2.weight', 'backbone.conv_encoder.model.layer3.4.conv3.weight', 'backbone.conv_encoder.model.layer3.5.bn1.bias', 'backbone.conv_encoder.model.layer3.5.bn1.running_mean', 'backbone.conv_encoder.model.layer3.5.bn1.running_var', 'backbone.conv_encoder.model.layer3.5.bn1.weight', 'backbone.conv_encoder.model.layer3.5.bn2.bias', 'backbone.conv_encoder.model.layer3.5.bn2.running_mean', 'backbone.conv_encoder.model.layer3.5.bn2.running_var', 'backbone.conv_encoder.model.layer3.5.bn2.weight', 'backbone.conv_encoder.model.layer3.5.bn3.bias', 'backbone.conv_encoder.model.layer3.5.bn3.running_mean', 'backbone.conv_encoder.model.layer3.5.bn3.running_var', 'backbone.conv_encoder.model.layer3.5.bn3.weight', 'backbone.conv_encoder.model.layer3.5.conv1.weight', 'backbone.conv_encoder.model.layer3.5.conv2.weight', 'backbone.conv_encoder.model.layer3.5.conv3.weight', 'backbone.conv_encoder.model.layer4.0.bn1.bias', 'backbone.conv_encoder.model.layer4.0.bn1.running_mean', 'backbone.conv_encoder.model.layer4.0.bn1.running_var', 'backbone.conv_encoder.model.layer4.0.bn1.weight', 'backbone.conv_encoder.model.layer4.0.bn2.bias', 'backbone.conv_encoder.model.layer4.0.bn2.running_mean', 'backbone.conv_encoder.model.layer4.0.bn2.running_var', 'backbone.conv_encoder.model.layer4.0.bn2.weight', 'backbone.conv_encoder.model.layer4.0.bn3.bias', 'backbone.conv_encoder.model.layer4.0.bn3.running_mean', 'backbone.conv_encoder.model.layer4.0.bn3.running_var', 'backbone.conv_encoder.model.layer4.0.bn3.weight', 'backbone.conv_encoder.model.layer4.0.conv1.weight', 'backbone.conv_encoder.model.layer4.0.conv2.weight', 'backbone.conv_encoder.model.layer4.0.conv3.weight', 'backbone.conv_encoder.model.layer4.0.downsample.0.weight', 'backbone.conv_encoder.model.layer4.0.downsample.1.bias', 'backbone.conv_encoder.model.layer4.0.downsample.1.running_mean', 'backbone.conv_encoder.model.layer4.0.downsample.1.running_var', 'backbone.conv_encoder.model.layer4.0.downsample.1.weight', 'backbone.conv_encoder.model.layer4.1.bn1.bias', 'backbone.conv_encoder.model.layer4.1.bn1.running_mean', 'backbone.conv_encoder.model.layer4.1.bn1.running_var', 'backbone.conv_encoder.model.layer4.1.bn1.weight', 'backbone.conv_encoder.model.layer4.1.bn2.bias', 'backbone.conv_encoder.model.layer4.1.bn2.running_mean', 'backbone.conv_encoder.model.layer4.1.bn2.running_var', 'backbone.conv_encoder.model.layer4.1.bn2.weight', 'backbone.conv_encoder.model.layer4.1.bn3.bias', 'backbone.conv_encoder.model.layer4.1.bn3.running_mean', 'backbone.conv_encoder.model.layer4.1.bn3.running_var', 'backbone.conv_encoder.model.layer4.1.bn3.weight', 'backbone.conv_encoder.model.layer4.1.conv1.weight', 'backbone.conv_encoder.model.layer4.1.conv2.weight', 'backbone.conv_encoder.model.layer4.1.conv3.weight', 'backbone.conv_encoder.model.layer4.2.bn1.bias', 'backbone.conv_encoder.model.layer4.2.bn1.running_mean', 'backbone.conv_encoder.model.layer4.2.bn1.running_var', 'backbone.conv_encoder.model.layer4.2.bn1.weight', 'backbone.conv_encoder.model.layer4.2.bn2.bias', 'backbone.conv_encoder.model.layer4.2.bn2.running_mean', 'backbone.conv_encoder.model.layer4.2.bn2.running_var', 'backbone.conv_encoder.model.layer4.2.bn2.weight', 'backbone.conv_encoder.model.layer4.2.bn3.bias', 'backbone.conv_encoder.model.layer4.2.bn3.running_mean', 'backbone.conv_encoder.model.layer4.2.bn3.running_var', 'backbone.conv_encoder.model.layer4.2.bn3.weight', 'backbone.conv_encoder.model.layer4.2.conv1.weight', 'backbone.conv_encoder.model.layer4.2.conv2.weight', 'backbone.conv_encoder.model.layer4.2.conv3.weight', 'decoder.layernorm.bias', 'decoder.layernorm.weight', 'decoder.layers.0.encoder_attn.k_proj.bias', 'decoder.layers.0.encoder_attn.k_proj.weight', 'decoder.layers.0.encoder_attn.out_proj.bias', 'decoder.layers.0.encoder_attn.out_proj.weight', 'decoder.layers.0.encoder_attn.q_proj.bias', 'decoder.layers.0.encoder_attn.q_proj.weight', 'decoder.layers.0.encoder_attn.v_proj.bias', 'decoder.layers.0.encoder_attn.v_proj.weight', 'decoder.layers.0.encoder_attn_layer_norm.bias', 'decoder.layers.0.encoder_attn_layer_norm.weight', 'decoder.layers.0.fc1.bias', 'decoder.layers.0.fc1.weight', 'decoder.layers.0.fc2.bias', 'decoder.layers.0.fc2.weight', 'decoder.layers.0.final_layer_norm.bias', 'decoder.layers.0.final_layer_norm.weight', 'decoder.layers.0.self_attn.k_proj.bias', 'decoder.layers.0.self_attn.k_proj.weight', 'decoder.layers.0.self_attn.out_proj.bias', 'decoder.layers.0.self_attn.out_proj.weight', 'decoder.layers.0.self_attn.q_proj.bias', 'decoder.layers.0.self_attn.q_proj.weight', 'decoder.layers.0.self_attn.v_proj.bias', 'decoder.layers.0.self_attn.v_proj.weight', 'decoder.layers.0.self_attn_layer_norm.bias', 'decoder.layers.0.self_attn_layer_norm.weight', 'decoder.layers.1.encoder_attn.k_proj.bias', 'decoder.layers.1.encoder_attn.k_proj.weight', 'decoder.layers.1.encoder_attn.out_proj.bias', 'decoder.layers.1.encoder_attn.out_proj.weight', 'decoder.layers.1.encoder_attn.q_proj.bias', 'decoder.layers.1.encoder_attn.q_proj.weight', 'decoder.layers.1.encoder_attn.v_proj.bias', 'decoder.layers.1.encoder_attn.v_proj.weight', 'decoder.layers.1.encoder_attn_layer_norm.bias', 'decoder.layers.1.encoder_attn_layer_norm.weight', 'decoder.layers.1.fc1.bias', 'decoder.layers.1.fc1.weight', 'decoder.layers.1.fc2.bias', 'decoder.layers.1.fc2.weight', 'decoder.layers.1.final_layer_norm.bias', 'decoder.layers.1.final_layer_norm.weight', 'decoder.layers.1.self_attn.k_proj.bias', 'decoder.layers.1.self_attn.k_proj.weight', 'decoder.layers.1.self_attn.out_proj.bias', 'decoder.layers.1.self_attn.out_proj.weight', 'decoder.layers.1.self_attn.q_proj.bias', 'decoder.layers.1.self_attn.q_proj.weight', 'decoder.layers.1.self_attn.v_proj.bias', 'decoder.layers.1.self_attn.v_proj.weight', 'decoder.layers.1.self_attn_layer_norm.bias', 'decoder.layers.1.self_attn_layer_norm.weight', 'decoder.layers.2.encoder_attn.k_proj.bias', 'decoder.layers.2.encoder_attn.k_proj.weight', 'decoder.layers.2.encoder_attn.out_proj.bias', 'decoder.layers.2.encoder_attn.out_proj.weight', 'decoder.layers.2.encoder_attn.q_proj.bias', 'decoder.layers.2.encoder_attn.q_proj.weight', 'decoder.layers.2.encoder_attn.v_proj.bias', 'decoder.layers.2.encoder_attn.v_proj.weight', 'decoder.layers.2.encoder_attn_layer_norm.bias', 'decoder.layers.2.encoder_attn_layer_norm.weight', 'decoder.layers.2.fc1.bias', 'decoder.layers.2.fc1.weight', 'decoder.layers.2.fc2.bias', 'decoder.layers.2.fc2.weight', 'decoder.layers.2.final_layer_norm.bias', 'decoder.layers.2.final_layer_norm.weight', 'decoder.layers.2.self_attn.k_proj.bias', 'decoder.layers.2.self_attn.k_proj.weight', 'decoder.layers.2.self_attn.out_proj.bias', 'decoder.layers.2.self_attn.out_proj.weight', 'decoder.layers.2.self_attn.q_proj.bias', 'decoder.layers.2.self_attn.q_proj.weight', 'decoder.layers.2.self_attn.v_proj.bias', 'decoder.layers.2.self_attn.v_proj.weight', 'decoder.layers.2.self_attn_layer_norm.bias', 'decoder.layers.2.self_attn_layer_norm.weight', 'decoder.layers.3.encoder_attn.k_proj.bias', 'decoder.layers.3.encoder_attn.k_proj.weight', 'decoder.layers.3.encoder_attn.out_proj.bias', 'decoder.layers.3.encoder_attn.out_proj.weight', 'decoder.layers.3.encoder_attn.q_proj.bias', 'decoder.layers.3.encoder_attn.q_proj.weight', 'decoder.layers.3.encoder_attn.v_proj.bias', 'decoder.layers.3.encoder_attn.v_proj.weight', 'decoder.layers.3.encoder_attn_layer_norm.bias', 'decoder.layers.3.encoder_attn_layer_norm.weight', 'decoder.layers.3.fc1.bias', 'decoder.layers.3.fc1.weight', 'decoder.layers.3.fc2.bias', 'decoder.layers.3.fc2.weight', 'decoder.layers.3.final_layer_norm.bias', 'decoder.layers.3.final_layer_norm.weight', 'decoder.layers.3.self_attn.k_proj.bias', 'decoder.layers.3.self_attn.k_proj.weight', 'decoder.layers.3.self_attn.out_proj.bias', 'decoder.layers.3.self_attn.out_proj.weight', 'decoder.layers.3.self_attn.q_proj.bias', 'decoder.layers.3.self_attn.q_proj.weight', 'decoder.layers.3.self_attn.v_proj.bias', 'decoder.layers.3.self_attn.v_proj.weight', 'decoder.layers.3.self_attn_layer_norm.bias', 'decoder.layers.3.self_attn_layer_norm.weight', 'decoder.layers.4.encoder_attn.k_proj.bias', 'decoder.layers.4.encoder_attn.k_proj.weight', 'decoder.layers.4.encoder_attn.out_proj.bias', 'decoder.layers.4.encoder_attn.out_proj.weight', 'decoder.layers.4.encoder_attn.q_proj.bias', 'decoder.layers.4.encoder_attn.q_proj.weight', 'decoder.layers.4.encoder_attn.v_proj.bias', 'decoder.layers.4.encoder_attn.v_proj.weight', 'decoder.layers.4.encoder_attn_layer_norm.bias', 'decoder.layers.4.encoder_attn_layer_norm.weight', 'decoder.layers.4.fc1.bias', 'decoder.layers.4.fc1.weight', 'decoder.layers.4.fc2.bias', 'decoder.layers.4.fc2.weight', 'decoder.layers.4.final_layer_norm.bias', 'decoder.layers.4.final_layer_norm.weight', 'decoder.layers.4.self_attn.k_proj.bias', 'decoder.layers.4.self_attn.k_proj.weight', 'decoder.layers.4.self_attn.out_proj.bias', 'decoder.layers.4.self_attn.out_proj.weight', 'decoder.layers.4.self_attn.q_proj.bias', 'decoder.layers.4.self_attn.q_proj.weight', 'decoder.layers.4.self_attn.v_proj.bias', 'decoder.layers.4.self_attn.v_proj.weight', 'decoder.layers.4.self_attn_layer_norm.bias', 'decoder.layers.4.self_attn_layer_norm.weight', 'decoder.layers.5.encoder_attn.k_proj.bias', 'decoder.layers.5.encoder_attn.k_proj.weight', 'decoder.layers.5.encoder_attn.out_proj.bias', 'decoder.layers.5.encoder_attn.out_proj.weight', 'decoder.layers.5.encoder_attn.q_proj.bias', 'decoder.layers.5.encoder_attn.q_proj.weight', 'decoder.layers.5.encoder_attn.v_proj.bias', 'decoder.layers.5.encoder_attn.v_proj.weight', 'decoder.layers.5.encoder_attn_layer_norm.bias', 'decoder.layers.5.encoder_attn_layer_norm.weight', 'decoder.layers.5.fc1.bias', 'decoder.layers.5.fc1.weight', 'decoder.layers.5.fc2.bias', 'decoder.layers.5.fc2.weight', 'decoder.layers.5.final_layer_norm.bias', 'decoder.layers.5.final_layer_norm.weight', 'decoder.layers.5.self_attn.k_proj.bias', 'decoder.layers.5.self_attn.k_proj.weight', 'decoder.layers.5.self_attn.out_proj.bias', 'decoder.layers.5.self_attn.out_proj.weight', 'decoder.layers.5.self_attn.q_proj.bias', 'decoder.layers.5.self_attn.q_proj.weight', 'decoder.layers.5.self_attn.v_proj.bias', 'decoder.layers.5.self_attn.v_proj.weight', 'decoder.layers.5.self_attn_layer_norm.bias', 'decoder.layers.5.self_attn_layer_norm.weight', 'encoder.layers.0.fc1.bias', 'encoder.layers.0.fc1.weight', 'encoder.layers.0.fc2.bias', 'encoder.layers.0.fc2.weight', 'encoder.layers.0.final_layer_norm.bias', 'encoder.layers.0.final_layer_norm.weight', 'encoder.layers.0.self_attn.k_proj.bias', 'encoder.layers.0.self_attn.k_proj.weight', 'encoder.layers.0.self_attn.out_proj.bias', 'encoder.layers.0.self_attn.out_proj.weight', 'encoder.layers.0.self_attn.q_proj.bias', 'encoder.layers.0.self_attn.q_proj.weight', 'encoder.layers.0.self_attn.v_proj.bias', 'encoder.layers.0.self_attn.v_proj.weight', 'encoder.layers.0.self_attn_layer_norm.bias', 'encoder.layers.0.self_attn_layer_norm.weight', 'encoder.layers.1.fc1.bias', 'encoder.layers.1.fc1.weight', 'encoder.layers.1.fc2.bias', 'encoder.layers.1.fc2.weight', 'encoder.layers.1.final_layer_norm.bias', 'encoder.layers.1.final_layer_norm.weight', 'encoder.layers.1.self_attn.k_proj.bias', 'encoder.layers.1.self_attn.k_proj.weight', 'encoder.layers.1.self_attn.out_proj.bias', 'encoder.layers.1.self_attn.out_proj.weight', 'encoder.layers.1.self_attn.q_proj.bias', 'encoder.layers.1.self_attn.q_proj.weight', 'encoder.layers.1.self_attn.v_proj.bias', 'encoder.layers.1.self_attn.v_proj.weight', 'encoder.layers.1.self_attn_layer_norm.bias', 'encoder.layers.1.self_attn_layer_norm.weight', 'encoder.layers.2.fc1.bias', 'encoder.layers.2.fc1.weight', 'encoder.layers.2.fc2.bias', 'encoder.layers.2.fc2.weight', 'encoder.layers.2.final_layer_norm.bias', 'encoder.layers.2.final_layer_norm.weight', 'encoder.layers.2.self_attn.k_proj.bias', 'encoder.layers.2.self_attn.k_proj.weight', 'encoder.layers.2.self_attn.out_proj.bias', 'encoder.layers.2.self_attn.out_proj.weight', 'encoder.layers.2.self_attn.q_proj.bias', 'encoder.layers.2.self_attn.q_proj.weight', 'encoder.layers.2.self_attn.v_proj.bias', 'encoder.layers.2.self_attn.v_proj.weight', 'encoder.layers.2.self_attn_layer_norm.bias', 'encoder.layers.2.self_attn_layer_norm.weight', 'encoder.layers.3.fc1.bias', 'encoder.layers.3.fc1.weight', 'encoder.layers.3.fc2.bias', 'encoder.layers.3.fc2.weight', 'encoder.layers.3.final_layer_norm.bias', 'encoder.layers.3.final_layer_norm.weight', 'encoder.layers.3.self_attn.k_proj.bias', 'encoder.layers.3.self_attn.k_proj.weight', 'encoder.layers.3.self_attn.out_proj.bias', 'encoder.layers.3.self_attn.out_proj.weight', 'encoder.layers.3.self_attn.q_proj.bias', 'encoder.layers.3.self_attn.q_proj.weight', 'encoder.layers.3.self_attn.v_proj.bias', 'encoder.layers.3.self_attn.v_proj.weight', 'encoder.layers.3.self_attn_layer_norm.bias', 'encoder.layers.3.self_attn_layer_norm.weight', 'encoder.layers.4.fc1.bias', 'encoder.layers.4.fc1.weight', 'encoder.layers.4.fc2.bias', 'encoder.layers.4.fc2.weight', 'encoder.layers.4.final_layer_norm.bias', 'encoder.layers.4.final_layer_norm.weight', 'encoder.layers.4.self_attn.k_proj.bias', 'encoder.layers.4.self_attn.k_proj.weight', 'encoder.layers.4.self_attn.out_proj.bias', 'encoder.layers.4.self_attn.out_proj.weight', 'encoder.layers.4.self_attn.q_proj.bias', 'encoder.layers.4.self_attn.q_proj.weight', 'encoder.layers.4.self_attn.v_proj.bias', 'encoder.layers.4.self_attn.v_proj.weight', 'encoder.layers.4.self_attn_layer_norm.bias', 'encoder.layers.4.self_attn_layer_norm.weight', 'encoder.layers.5.fc1.bias', 'encoder.layers.5.fc1.weight', 'encoder.layers.5.fc2.bias', 'encoder.layers.5.fc2.weight', 'encoder.layers.5.final_layer_norm.bias', 'encoder.layers.5.final_layer_norm.weight', 'encoder.layers.5.self_attn.k_proj.bias', 'encoder.layers.5.self_attn.k_proj.weight', 'encoder.layers.5.self_attn.out_proj.bias', 'encoder.layers.5.self_attn.out_proj.weight', 'encoder.layers.5.self_attn.q_proj.bias', 'encoder.layers.5.self_attn.q_proj.weight', 'encoder.layers.5.self_attn.v_proj.bias', 'encoder.layers.5.self_attn.v_proj.weight', 'encoder.layers.5.self_attn_layer_norm.bias', 'encoder.layers.5.self_attn_layer_norm.weight', 'input_projection.bias', 'input_projection.weight', 'query_position_embeddings.weight']\n",
            "You should probably TRAIN this model on a down-stream task to be able to use it for predictions and inference.\n"
          ]
        }
      ]
    },
    {
      "cell_type": "code",
      "source": [
        "# height, width don't matter\n",
        "random_batch = torch.randn(5,3, 190, 190)\n",
        "model.eval()\n",
        "model(random_batch).last_hidden_state.shape"
      ],
      "metadata": {
        "colab": {
          "base_uri": "https://localhost:8080/"
        },
        "id": "G2i0qc6iDGan",
        "outputId": "d0532ee0-a83e-479d-aecc-3881b066b226"
      },
      "execution_count": 129,
      "outputs": [
        {
          "output_type": "execute_result",
          "data": {
            "text/plain": [
              "torch.Size([5, 100, 256])"
            ]
          },
          "metadata": {},
          "execution_count": 129
        }
      ]
    },
    {
      "cell_type": "code",
      "source": [
        "len(list(model.children()))"
      ],
      "metadata": {
        "colab": {
          "base_uri": "https://localhost:8080/"
        },
        "id": "D8F_2nOdPgm6",
        "outputId": "6b7a7820-c195-4c0f-8786-31edd2233ccb"
      },
      "execution_count": 113,
      "outputs": [
        {
          "output_type": "execute_result",
          "data": {
            "text/plain": [
              "5"
            ]
          },
          "metadata": {},
          "execution_count": 113
        }
      ]
    },
    {
      "cell_type": "code",
      "source": [
        "lenght_of_child_of_children = [len(list(child.children())) for child in model.children()]\n",
        "lenght_of_child_of_children"
      ],
      "metadata": {
        "colab": {
          "base_uri": "https://localhost:8080/"
        },
        "id": "Yg4a3f6APs0P",
        "outputId": "05f4f734-a156-4140-edc0-82d9379a15e7"
      },
      "execution_count": 116,
      "outputs": [
        {
          "output_type": "execute_result",
          "data": {
            "text/plain": [
              "[2, 0, 0, 1, 2]"
            ]
          },
          "metadata": {},
          "execution_count": 116
        }
      ]
    },
    {
      "cell_type": "code",
      "source": [],
      "metadata": {
        "id": "RBkLyn3yQq1S"
      },
      "execution_count": null,
      "outputs": []
    }
  ]
}